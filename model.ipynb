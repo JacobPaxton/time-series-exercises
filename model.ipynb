{
 "cells": [
  {
   "cell_type": "markdown",
   "id": "86b7bcfd",
   "metadata": {},
   "source": [
    "# Instructions\n",
    "Using saas.csv or log data from API usage or store_item_sales:\n",
    "1. Split data (train/validate/test) and resample by any period, except daily, and aggregate using the sum.\n",
    "2. Forecast, plot and evaluate using each of the 4 parametric based methods we discussed:\n",
    "    * Simple Average\n",
    "    * Moving Average\n",
    "    * Holt's Linear Trend Model\n",
    "    * Based on previous year/month/etc., this is up to you.\n",
    "\n",
    "Optional: Using store item demand\n",
    "1. Predict 2018 total monthly sales for a single store and/or item by creating a model.\n",
    "2. Return a dataframe with the month, store_id, y-hat, and the confidence intervals (y-hat lower, y-hat upper).\n",
    "3. Plot the 2018 monthly sales predictions.\n",
    "\n",
    "# Saas.CSV"
   ]
  },
  {
   "cell_type": "code",
   "execution_count": 1,
   "id": "16128b2c",
   "metadata": {},
   "outputs": [],
   "source": [
    "import warnings\n",
    "warnings.filterwarnings('ignore')\n",
    "\n",
    "import pandas as pd\n",
    "import seaborn as sns\n",
    "import matplotlib.pyplot as plt\n",
    "\n",
    "from sklearn.metrics import mean_squared_error\n",
    "from math import sqrt\n",
    "\n",
    "import statsmodels.tsa.api as sm"
   ]
  },
  {
   "cell_type": "code",
   "execution_count": 2,
   "id": "ebdb5625",
   "metadata": {},
   "outputs": [
    {
     "data": {
      "text/html": [
       "<div>\n",
       "<style scoped>\n",
       "    .dataframe tbody tr th:only-of-type {\n",
       "        vertical-align: middle;\n",
       "    }\n",
       "\n",
       "    .dataframe tbody tr th {\n",
       "        vertical-align: top;\n",
       "    }\n",
       "\n",
       "    .dataframe thead th {\n",
       "        text-align: right;\n",
       "    }\n",
       "</style>\n",
       "<table border=\"1\" class=\"dataframe\">\n",
       "  <thead>\n",
       "    <tr style=\"text-align: right;\">\n",
       "      <th></th>\n",
       "      <th>Month_Invoiced</th>\n",
       "      <th>Customer_Id</th>\n",
       "      <th>Invoice_Id</th>\n",
       "      <th>Subscription_Type</th>\n",
       "      <th>Amount</th>\n",
       "    </tr>\n",
       "  </thead>\n",
       "  <tbody>\n",
       "    <tr>\n",
       "      <th>0</th>\n",
       "      <td>2014-01-31</td>\n",
       "      <td>1000000</td>\n",
       "      <td>5000000</td>\n",
       "      <td>0.0</td>\n",
       "      <td>0.0</td>\n",
       "    </tr>\n",
       "    <tr>\n",
       "      <th>1</th>\n",
       "      <td>2014-01-31</td>\n",
       "      <td>1000001</td>\n",
       "      <td>5000001</td>\n",
       "      <td>2.0</td>\n",
       "      <td>10.0</td>\n",
       "    </tr>\n",
       "    <tr>\n",
       "      <th>2</th>\n",
       "      <td>2014-01-31</td>\n",
       "      <td>1000002</td>\n",
       "      <td>5000002</td>\n",
       "      <td>0.0</td>\n",
       "      <td>0.0</td>\n",
       "    </tr>\n",
       "    <tr>\n",
       "      <th>3</th>\n",
       "      <td>2014-01-31</td>\n",
       "      <td>1000003</td>\n",
       "      <td>5000003</td>\n",
       "      <td>0.0</td>\n",
       "      <td>0.0</td>\n",
       "    </tr>\n",
       "    <tr>\n",
       "      <th>4</th>\n",
       "      <td>2014-01-31</td>\n",
       "      <td>1000004</td>\n",
       "      <td>5000004</td>\n",
       "      <td>1.0</td>\n",
       "      <td>5.0</td>\n",
       "    </tr>\n",
       "    <tr>\n",
       "      <th>...</th>\n",
       "      <td>...</td>\n",
       "      <td>...</td>\n",
       "      <td>...</td>\n",
       "      <td>...</td>\n",
       "      <td>...</td>\n",
       "    </tr>\n",
       "    <tr>\n",
       "      <th>790453</th>\n",
       "      <td>2017-12-31</td>\n",
       "      <td>1029395</td>\n",
       "      <td>5790453</td>\n",
       "      <td>0.0</td>\n",
       "      <td>0.0</td>\n",
       "    </tr>\n",
       "    <tr>\n",
       "      <th>790454</th>\n",
       "      <td>2017-12-31</td>\n",
       "      <td>1029396</td>\n",
       "      <td>5790454</td>\n",
       "      <td>0.0</td>\n",
       "      <td>0.0</td>\n",
       "    </tr>\n",
       "    <tr>\n",
       "      <th>790455</th>\n",
       "      <td>2017-12-31</td>\n",
       "      <td>1029397</td>\n",
       "      <td>5790455</td>\n",
       "      <td>3.0</td>\n",
       "      <td>15.0</td>\n",
       "    </tr>\n",
       "    <tr>\n",
       "      <th>790456</th>\n",
       "      <td>2017-12-31</td>\n",
       "      <td>1029398</td>\n",
       "      <td>5790456</td>\n",
       "      <td>0.0</td>\n",
       "      <td>0.0</td>\n",
       "    </tr>\n",
       "    <tr>\n",
       "      <th>790457</th>\n",
       "      <td>2017-12-31</td>\n",
       "      <td>1029399</td>\n",
       "      <td>5790457</td>\n",
       "      <td>0.0</td>\n",
       "      <td>0.0</td>\n",
       "    </tr>\n",
       "  </tbody>\n",
       "</table>\n",
       "<p>790458 rows × 5 columns</p>\n",
       "</div>"
      ],
      "text/plain": [
       "       Month_Invoiced  Customer_Id  Invoice_Id  Subscription_Type  Amount\n",
       "0          2014-01-31      1000000     5000000                0.0     0.0\n",
       "1          2014-01-31      1000001     5000001                2.0    10.0\n",
       "2          2014-01-31      1000002     5000002                0.0     0.0\n",
       "3          2014-01-31      1000003     5000003                0.0     0.0\n",
       "4          2014-01-31      1000004     5000004                1.0     5.0\n",
       "...               ...          ...         ...                ...     ...\n",
       "790453     2017-12-31      1029395     5790453                0.0     0.0\n",
       "790454     2017-12-31      1029396     5790454                0.0     0.0\n",
       "790455     2017-12-31      1029397     5790455                3.0    15.0\n",
       "790456     2017-12-31      1029398     5790456                0.0     0.0\n",
       "790457     2017-12-31      1029399     5790457                0.0     0.0\n",
       "\n",
       "[790458 rows x 5 columns]"
      ]
     },
     "execution_count": 2,
     "metadata": {},
     "output_type": "execute_result"
    }
   ],
   "source": [
    "# cache data\n",
    "df = pd.read_csv('saas.csv')\n",
    "df"
   ]
  },
  {
   "cell_type": "code",
   "execution_count": 3,
   "id": "2305a8d5",
   "metadata": {},
   "outputs": [],
   "source": [
    "# assign date to index\n",
    "df['Month_Invoiced'] = df['Month_Invoiced'].astype('datetime64')\n",
    "df.index = df.Month_Invoiced"
   ]
  },
  {
   "cell_type": "code",
   "execution_count": 4,
   "id": "233afe16",
   "metadata": {},
   "outputs": [
    {
     "data": {
      "text/html": [
       "<div>\n",
       "<style scoped>\n",
       "    .dataframe tbody tr th:only-of-type {\n",
       "        vertical-align: middle;\n",
       "    }\n",
       "\n",
       "    .dataframe tbody tr th {\n",
       "        vertical-align: top;\n",
       "    }\n",
       "\n",
       "    .dataframe thead th {\n",
       "        text-align: right;\n",
       "    }\n",
       "</style>\n",
       "<table border=\"1\" class=\"dataframe\">\n",
       "  <thead>\n",
       "    <tr style=\"text-align: right;\">\n",
       "      <th></th>\n",
       "      <th>Amount</th>\n",
       "    </tr>\n",
       "    <tr>\n",
       "      <th>Month_Invoiced</th>\n",
       "      <th></th>\n",
       "    </tr>\n",
       "  </thead>\n",
       "  <tbody>\n",
       "    <tr>\n",
       "      <th>2014-01-31</th>\n",
       "      <td>35850.0</td>\n",
       "    </tr>\n",
       "    <tr>\n",
       "      <th>2014-02-28</th>\n",
       "      <td>37190.0</td>\n",
       "    </tr>\n",
       "    <tr>\n",
       "      <th>2014-03-31</th>\n",
       "      <td>38295.0</td>\n",
       "    </tr>\n",
       "  </tbody>\n",
       "</table>\n",
       "</div>"
      ],
      "text/plain": [
       "                 Amount\n",
       "Month_Invoiced         \n",
       "2014-01-31      35850.0\n",
       "2014-02-28      37190.0\n",
       "2014-03-31      38295.0"
      ]
     },
     "execution_count": 4,
     "metadata": {},
     "output_type": "execute_result"
    }
   ],
   "source": [
    "# create monthly dataframe\n",
    "monthly_df = df[['Amount']].resample('M').sum()\n",
    "monthly_df.head(3)"
   ]
  },
  {
   "cell_type": "code",
   "execution_count": 5,
   "id": "a9052aaa",
   "metadata": {},
   "outputs": [
    {
     "data": {
      "text/plain": [
       "<AxesSubplot:xlabel='Month_Invoiced'>"
      ]
     },
     "execution_count": 5,
     "metadata": {},
     "output_type": "execute_result"
    },
    {
     "data": {
      "image/png": "[encoded data removed]",
      "text/plain": [
       "<Figure size 432x288 with 1 Axes>"
      ]
     },
     "metadata": {
      "needs_background": "light"
     },
     "output_type": "display_data"
    }
   ],
   "source": [
    "# check distribution\n",
    "monthly_df.plot()"
   ]
  },
  {
   "cell_type": "code",
   "execution_count": 6,
   "id": "f53a9390",
   "metadata": {},
   "outputs": [],
   "source": [
    "# slice for recent data (higher-accuracy predictions)\n",
    "monthly_df = monthly_df['2016':]"
   ]
  },
  {
   "cell_type": "code",
   "execution_count": 7,
   "id": "b1fe4ffc",
   "metadata": {},
   "outputs": [
    {
     "data": {
      "text/plain": [
       "True"
      ]
     },
     "execution_count": 7,
     "metadata": {},
     "output_type": "execute_result"
    }
   ],
   "source": [
    "# create masks for 12mo, 6mo, and 6mo splits\n",
    "train_mask = monthly_df.index.year == 2016\n",
    "validate_mask = (monthly_df.index.year == 2017) & (monthly_df.index.month < 7)\n",
    "test_mask = (monthly_df.index.year == 2017) & (monthly_df.index.month >= 7)\n",
    "# split into 12 month train, 6 month validate, 6 month test\n",
    "train = monthly_df[train_mask]\n",
    "validate = monthly_df[validate_mask]\n",
    "test = monthly_df[test_mask]\n",
    "# check results\n",
    "len(train) + len(validate) + len(test) == len(monthly_df)"
   ]
  },
  {
   "cell_type": "code",
   "execution_count": 8,
   "id": "c4208ab2",
   "metadata": {
    "scrolled": true
   },
   "outputs": [],
   "source": [
    "# simple average\n",
    "validate['simple_average'] = train.Amount.mean()\n",
    "# rolling average\n",
    "validate['quarterly_rolling'] = train.Amount.rolling(3).mean()[-1]\n",
    "# Holt's linear trend\n",
    "model = sm.Holt(train['Amount'], exponential = False)\n",
    "model = model.fit(smoothing_level = .1, smoothing_slope = .1, optimized = False)\n",
    "validate['Holt_0.1_0.1'] = model.predict(start = validate.index[0], \n",
    "                                       end = validate.index[-1])\n",
    "# Semi-Annual Difference\n",
    "mean_6mo_diff = train.Amount.diff(6).mean()\n",
    "validate['semi_annual_diff'] = list(train[6:].Amount)\n",
    "validate['semi_annual_diff'] = validate['semi_annual_diff'] + mean_6mo_diff"
   ]
  },
  {
   "cell_type": "code",
   "execution_count": 9,
   "id": "a935bc74",
   "metadata": {},
   "outputs": [
    {
     "data": {
      "text/plain": [
       "<AxesSubplot:xlabel='Month_Invoiced'>"
      ]
     },
     "execution_count": 9,
     "metadata": {},
     "output_type": "execute_result"
    },
    {
     "data": {
      "image/png": "[encoded data removed]",
      "text/plain": [
       "<Figure size 432x288 with 1 Axes>"
      ]
     },
     "metadata": {
      "needs_background": "light"
     },
     "output_type": "display_data"
    }
   ],
   "source": [
    "validate.plot()"
   ]
  },
  {
   "cell_type": "code",
   "execution_count": 10,
   "id": "8e031750",
   "metadata": {},
   "outputs": [
    {
     "name": "stdout",
     "output_type": "stream",
     "text": [
      "simple_average RMSE:\n",
      "790.0\n",
      "quarterly_rolling RMSE:\n",
      "117.0\n",
      "Holt_0.1_0.1 RMSE:\n",
      "530.0\n",
      "semi_annual_diff RMSE:\n",
      "674.0\n"
     ]
    }
   ],
   "source": [
    "# evaluate RMSE\n",
    "for col in validate.columns[1:]:\n",
    "    print(col + ' RMSE:\\n' + str(round(sqrt(mean_squared_error(validate['Amount'], validate[col])), 0)))"
   ]
  },
  {
   "cell_type": "code",
   "execution_count": null,
   "id": "c8dd6aa2",
   "metadata": {},
   "outputs": [],
   "source": []
  }
 ],
 "metadata": {
  "kernelspec": {
   "display_name": "Python 3 (ipykernel)",
   "language": "python",
   "name": "python3"
  },
  "language_info": {
   "codemirror_mode": {
    "name": "ipython",
    "version": 3
   },
   "file_extension": ".py",
   "mimetype": "text/x-python",
   "name": "python",
   "nbconvert_exporter": "python",
   "pygments_lexer": "ipython3",
   "version": "3.8.8"
  }
 },
 "nbformat": 4,
 "nbformat_minor": 5
}
