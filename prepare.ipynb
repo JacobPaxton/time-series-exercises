{
 "cells": [
  {
   "cell_type": "code",
   "execution_count": 1,
   "id": "df36445d",
   "metadata": {},
   "outputs": [],
   "source": [
    "import pandas as pd\n",
    "import seaborn as sns\n",
    "import matplotlib.pyplot as plt"
   ]
  },
  {
   "cell_type": "markdown",
   "id": "2b583675",
   "metadata": {},
   "source": [
    "# Instructions\n",
    "The end result of this exercise should be a file named prepare.py.\n",
    "\n",
    "## Store Items\n",
    "Using your store items data:\n",
    "1. Convert date column to datetime format.\n",
    "2. Plot the distribution of sale_amount and item_price.\n",
    "3. Set the index to be the datetime variable.\n",
    "4. Add a 'month' and 'day of week' column to your dataframe.\n",
    "5. Add a column to your dataframe, sales_total, which is a derived from sale_amount (total items) and item_price.\n",
    "6. Make sure all the work that you have done above is reproducible. That is, you should put the code above into separate functions and be able to re-run the functions and get the same results."
   ]
  },
  {
   "cell_type": "code",
   "execution_count": 2,
   "id": "a77e8574",
   "metadata": {},
   "outputs": [
    {
     "name": "stdout",
     "output_type": "stream",
     "text": [
      "<class 'pandas.core.frame.DataFrame'>\n",
      "Int64Index: 913000 entries, 0 to 912999\n",
      "Data columns (total 14 columns):\n",
      " #   Column         Non-Null Count   Dtype  \n",
      "---  ------         --------------   -----  \n",
      " 0   sale_id        913000 non-null  int64  \n",
      " 1   sale_date      913000 non-null  object \n",
      " 2   sale_amount    913000 non-null  float64\n",
      " 3   item_id        913000 non-null  int64  \n",
      " 4   item_brand     913000 non-null  object \n",
      " 5   item_name      913000 non-null  object \n",
      " 6   item_price     913000 non-null  float64\n",
      " 7   item_upc12     913000 non-null  int64  \n",
      " 8   item_upc14     913000 non-null  int64  \n",
      " 9   store_id       913000 non-null  int64  \n",
      " 10  store_state    913000 non-null  object \n",
      " 11  store_city     913000 non-null  object \n",
      " 12  store_zipcode  913000 non-null  int64  \n",
      " 13  store_address  913000 non-null  object \n",
      "dtypes: float64(2), int64(6), object(6)\n",
      "memory usage: 104.5+ MB\n"
     ]
    }
   ],
   "source": [
    "# using store items data\n",
    "df = pd.read_csv('gulde_all.csv', index_col=0)\n",
    "df.to_csv()\n",
    "df.info()"
   ]
  },
  {
   "cell_type": "code",
   "execution_count": 3,
   "id": "dfdf5af9",
   "metadata": {},
   "outputs": [
    {
     "data": {
      "text/plain": [
       "dtype('<M8[ns]')"
      ]
     },
     "execution_count": 3,
     "metadata": {},
     "output_type": "execute_result"
    }
   ],
   "source": [
    "# convert date column to datetime format\n",
    "df['sale_date'] = df['sale_date'].astype('datetime64')\n",
    "df.sale_date.dtype"
   ]
  },
  {
   "cell_type": "code",
   "execution_count": 4,
   "id": "fb779650",
   "metadata": {},
   "outputs": [
    {
     "data": {
      "image/png": "[encoded data removed]",
      "text/plain": [
       "<Figure size 864x504 with 1 Axes>"
      ]
     },
     "metadata": {
      "needs_background": "light"
     },
     "output_type": "display_data"
    }
   ],
   "source": [
    "# plot the distribution of sale_date and item_price\n",
    "plt.figure(figsize=(12,7))\n",
    "df['month'] = df['sale_date'].dt.month\n",
    "df_monthly = df.groupby(['month','item_name']).item_price.mean().reset_index()\n",
    "sns.lineplot(x=df_monthly.month, y=df_monthly.item_price, hue=df_monthly.item_name, legend=None)\n",
    "plt.show() # item prices don't change over time, don't need to show each item's price here"
   ]
  },
  {
   "cell_type": "code",
   "execution_count": 5,
   "id": "468c6e3c",
   "metadata": {},
   "outputs": [],
   "source": [
    "# set index as sale_date\n",
    "df.index = df.sale_date"
   ]
  },
  {
   "cell_type": "code",
   "execution_count": 6,
   "id": "b169a136",
   "metadata": {},
   "outputs": [],
   "source": [
    "# add a month column\n",
    "# done earlier\n",
    "# add a day-of-week column\n",
    "df['day_name'] = df.index.day_name"
   ]
  },
  {
   "cell_type": "code",
   "execution_count": 7,
   "id": "d32904dc",
   "metadata": {},
   "outputs": [],
   "source": [
    "# add a sales_total column\n",
    "df['sales_total'] = df['sale_amount'] * df['item_price']"
   ]
  },
  {
   "cell_type": "code",
   "execution_count": 8,
   "id": "857dc38c",
   "metadata": {},
   "outputs": [
    {
     "data": {
      "text/html": [
       "<div>\n",
       "<style scoped>\n",
       "    .dataframe tbody tr th:only-of-type {\n",
       "        vertical-align: middle;\n",
       "    }\n",
       "\n",
       "    .dataframe tbody tr th {\n",
       "        vertical-align: top;\n",
       "    }\n",
       "\n",
       "    .dataframe thead th {\n",
       "        text-align: right;\n",
       "    }\n",
       "</style>\n",
       "<table border=\"1\" class=\"dataframe\">\n",
       "  <thead>\n",
       "    <tr style=\"text-align: right;\">\n",
       "      <th></th>\n",
       "      <th>sale_id</th>\n",
       "      <th>sale_date</th>\n",
       "      <th>sale_amount</th>\n",
       "      <th>item_id</th>\n",
       "      <th>item_brand</th>\n",
       "      <th>item_name</th>\n",
       "      <th>item_price</th>\n",
       "      <th>item_upc12</th>\n",
       "      <th>item_upc14</th>\n",
       "      <th>store_id</th>\n",
       "      <th>store_state</th>\n",
       "      <th>store_city</th>\n",
       "      <th>store_zipcode</th>\n",
       "      <th>store_address</th>\n",
       "      <th>month</th>\n",
       "      <th>day_name</th>\n",
       "      <th>sales_total</th>\n",
       "    </tr>\n",
       "    <tr>\n",
       "      <th>sale_date</th>\n",
       "      <th></th>\n",
       "      <th></th>\n",
       "      <th></th>\n",
       "      <th></th>\n",
       "      <th></th>\n",
       "      <th></th>\n",
       "      <th></th>\n",
       "      <th></th>\n",
       "      <th></th>\n",
       "      <th></th>\n",
       "      <th></th>\n",
       "      <th></th>\n",
       "      <th></th>\n",
       "      <th></th>\n",
       "      <th></th>\n",
       "      <th></th>\n",
       "      <th></th>\n",
       "    </tr>\n",
       "  </thead>\n",
       "  <tbody>\n",
       "    <tr>\n",
       "      <th>2013-01-01</th>\n",
       "      <td>1</td>\n",
       "      <td>2013-01-01</td>\n",
       "      <td>13.0</td>\n",
       "      <td>1</td>\n",
       "      <td>Riceland</td>\n",
       "      <td>Riceland American Jazmine Rice</td>\n",
       "      <td>0.84</td>\n",
       "      <td>35200264013</td>\n",
       "      <td>35200264013</td>\n",
       "      <td>1</td>\n",
       "      <td>TX</td>\n",
       "      <td>San Antonio</td>\n",
       "      <td>78253</td>\n",
       "      <td>12125 Alamo Ranch Pkwy</td>\n",
       "      <td>1</td>\n",
       "      <td>&lt;bound method inherit_from_data.&lt;locals&gt;.metho...</td>\n",
       "      <td>10.92</td>\n",
       "    </tr>\n",
       "    <tr>\n",
       "      <th>2013-01-02</th>\n",
       "      <td>2</td>\n",
       "      <td>2013-01-02</td>\n",
       "      <td>11.0</td>\n",
       "      <td>1</td>\n",
       "      <td>Riceland</td>\n",
       "      <td>Riceland American Jazmine Rice</td>\n",
       "      <td>0.84</td>\n",
       "      <td>35200264013</td>\n",
       "      <td>35200264013</td>\n",
       "      <td>1</td>\n",
       "      <td>TX</td>\n",
       "      <td>San Antonio</td>\n",
       "      <td>78253</td>\n",
       "      <td>12125 Alamo Ranch Pkwy</td>\n",
       "      <td>1</td>\n",
       "      <td>&lt;bound method inherit_from_data.&lt;locals&gt;.metho...</td>\n",
       "      <td>9.24</td>\n",
       "    </tr>\n",
       "  </tbody>\n",
       "</table>\n",
       "</div>"
      ],
      "text/plain": [
       "            sale_id  sale_date  sale_amount  item_id item_brand  \\\n",
       "sale_date                                                         \n",
       "2013-01-01        1 2013-01-01         13.0        1   Riceland   \n",
       "2013-01-02        2 2013-01-02         11.0        1   Riceland   \n",
       "\n",
       "                                 item_name  item_price   item_upc12  \\\n",
       "sale_date                                                             \n",
       "2013-01-01  Riceland American Jazmine Rice        0.84  35200264013   \n",
       "2013-01-02  Riceland American Jazmine Rice        0.84  35200264013   \n",
       "\n",
       "             item_upc14  store_id store_state   store_city  store_zipcode  \\\n",
       "sale_date                                                                   \n",
       "2013-01-01  35200264013         1          TX  San Antonio          78253   \n",
       "2013-01-02  35200264013         1          TX  San Antonio          78253   \n",
       "\n",
       "                     store_address  month  \\\n",
       "sale_date                                   \n",
       "2013-01-01  12125 Alamo Ranch Pkwy      1   \n",
       "2013-01-02  12125 Alamo Ranch Pkwy      1   \n",
       "\n",
       "                                                     day_name  sales_total  \n",
       "sale_date                                                                   \n",
       "2013-01-01  <bound method inherit_from_data.<locals>.metho...        10.92  \n",
       "2013-01-02  <bound method inherit_from_data.<locals>.metho...         9.24  "
      ]
     },
     "execution_count": 8,
     "metadata": {},
     "output_type": "execute_result"
    }
   ],
   "source": [
    "df.head(2)"
   ]
  },
  {
   "cell_type": "code",
   "execution_count": 9,
   "id": "eed7e7a0",
   "metadata": {},
   "outputs": [],
   "source": [
    "# put these to functions, add functions to prepare.py\n",
    "# done"
   ]
  },
  {
   "cell_type": "markdown",
   "id": "082701e4",
   "metadata": {},
   "source": [
    "## OPS Data\n",
    "Using the OPS data acquired in the Acquire exercises opsd_germany_daily.csv, complete the following:\n",
    "1. Convert date column to datetime format.\n",
    "2. Plot the distribution of each of your variables.\n",
    "3. Set the index to be the datetime variable.\n",
    "4. Add a month and a year column to your dataframe.\n",
    "5. Fill any missing values.\n",
    "6. Make sure all the work that you have done above is reproducible. That is, you should put the code above into separate functions and be able to re-run the functions and get the same results."
   ]
  },
  {
   "cell_type": "code",
   "execution_count": 10,
   "id": "37480986",
   "metadata": {},
   "outputs": [
    {
     "data": {
      "text/html": [
       "<div>\n",
       "<style scoped>\n",
       "    .dataframe tbody tr th:only-of-type {\n",
       "        vertical-align: middle;\n",
       "    }\n",
       "\n",
       "    .dataframe tbody tr th {\n",
       "        vertical-align: top;\n",
       "    }\n",
       "\n",
       "    .dataframe thead th {\n",
       "        text-align: right;\n",
       "    }\n",
       "</style>\n",
       "<table border=\"1\" class=\"dataframe\">\n",
       "  <thead>\n",
       "    <tr style=\"text-align: right;\">\n",
       "      <th></th>\n",
       "      <th>Date</th>\n",
       "      <th>Consumption</th>\n",
       "      <th>Wind</th>\n",
       "      <th>Solar</th>\n",
       "      <th>Wind+Solar</th>\n",
       "    </tr>\n",
       "  </thead>\n",
       "  <tbody>\n",
       "    <tr>\n",
       "      <th>0</th>\n",
       "      <td>2006-01-01</td>\n",
       "      <td>1069.184</td>\n",
       "      <td>NaN</td>\n",
       "      <td>NaN</td>\n",
       "      <td>NaN</td>\n",
       "    </tr>\n",
       "    <tr>\n",
       "      <th>1</th>\n",
       "      <td>2006-01-02</td>\n",
       "      <td>1380.521</td>\n",
       "      <td>NaN</td>\n",
       "      <td>NaN</td>\n",
       "      <td>NaN</td>\n",
       "    </tr>\n",
       "  </tbody>\n",
       "</table>\n",
       "</div>"
      ],
      "text/plain": [
       "         Date  Consumption  Wind  Solar  Wind+Solar\n",
       "0  2006-01-01     1069.184   NaN    NaN         NaN\n",
       "1  2006-01-02     1380.521   NaN    NaN         NaN"
      ]
     },
     "execution_count": 10,
     "metadata": {},
     "output_type": "execute_result"
    }
   ],
   "source": [
    "# using the ops data\n",
    "ops = pd.read_csv('opsd_germany_daily.csv', index_col=0)\n",
    "ops.head(2)"
   ]
  },
  {
   "cell_type": "code",
   "execution_count": 11,
   "id": "7a43ae6a",
   "metadata": {},
   "outputs": [],
   "source": [
    "# convert date column to datetime\n",
    "ops['Date'] = ops['Date'].astype('datetime64')"
   ]
  },
  {
   "cell_type": "code",
   "execution_count": 12,
   "id": "60252329",
   "metadata": {},
   "outputs": [
    {
     "data": {
      "image/png": "[encoded data removed]",
      "text/plain": [
       "<Figure size 432x288 with 1 Axes>"
      ]
     },
     "metadata": {
      "needs_background": "light"
     },
     "output_type": "display_data"
    },
    {
     "data": {
      "image/png": "[encoded data removed]",
      "text/plain": [
       "<Figure size 432x288 with 1 Axes>"
      ]
     },
     "metadata": {
      "needs_background": "light"
     },
     "output_type": "display_data"
    },
    {
     "data": {
      "image/png": "[encoded data removed]",
      "text/plain": [
       "<Figure size 432x288 with 1 Axes>"
      ]
     },
     "metadata": {
      "needs_background": "light"
     },
     "output_type": "display_data"
    },
    {
     "data": {
      "image/png": "[encoded data removed]",
      "text/plain": [
       "<Figure size 432x288 with 1 Axes>"
      ]
     },
     "metadata": {
      "needs_background": "light"
     },
     "output_type": "display_data"
    },
    {
     "data": {
      "image/png": "[encoded data removed]",
      "text/plain": [
       "<Figure size 432x288 with 1 Axes>"
      ]
     },
     "metadata": {
      "needs_background": "light"
     },
     "output_type": "display_data"
    }
   ],
   "source": [
    "# plot distribution of each variable\n",
    "for col in ops.columns:\n",
    "    sns.histplot(ops[col])\n",
    "    plt.show()"
   ]
  },
  {
   "cell_type": "code",
   "execution_count": 13,
   "id": "452fe17a",
   "metadata": {},
   "outputs": [],
   "source": [
    "# set index to date\n",
    "ops.index = ops.Date"
   ]
  },
  {
   "cell_type": "code",
   "execution_count": 14,
   "id": "aff74a02",
   "metadata": {},
   "outputs": [],
   "source": [
    "# add month and year columns\n",
    "ops['month'] = ops.index.month\n",
    "ops['year'] = ops.index.year"
   ]
  },
  {
   "cell_type": "code",
   "execution_count": 15,
   "id": "c2f70cad",
   "metadata": {},
   "outputs": [
    {
     "data": {
      "text/plain": [
       "Date              0\n",
       "Consumption       0\n",
       "Wind           1463\n",
       "Solar          2195\n",
       "Wind+Solar     2196\n",
       "month             0\n",
       "year              0\n",
       "dtype: int64"
      ]
     },
     "execution_count": 15,
     "metadata": {},
     "output_type": "execute_result"
    }
   ],
   "source": [
    "# fill missing values\n",
    "# locate nulls\n",
    "ops.isna().sum()"
   ]
  },
  {
   "cell_type": "code",
   "execution_count": 16,
   "id": "250ecbae",
   "metadata": {},
   "outputs": [
    {
     "data": {
      "text/html": [
       "<div>\n",
       "<style scoped>\n",
       "    .dataframe tbody tr th:only-of-type {\n",
       "        vertical-align: middle;\n",
       "    }\n",
       "\n",
       "    .dataframe tbody tr th {\n",
       "        vertical-align: top;\n",
       "    }\n",
       "\n",
       "    .dataframe thead th {\n",
       "        text-align: right;\n",
       "    }\n",
       "</style>\n",
       "<table border=\"1\" class=\"dataframe\">\n",
       "  <thead>\n",
       "    <tr style=\"text-align: right;\">\n",
       "      <th></th>\n",
       "      <th>Date</th>\n",
       "      <th>Consumption</th>\n",
       "      <th>Wind</th>\n",
       "      <th>Solar</th>\n",
       "      <th>Wind+Solar</th>\n",
       "      <th>month</th>\n",
       "      <th>year</th>\n",
       "    </tr>\n",
       "    <tr>\n",
       "      <th>Date</th>\n",
       "      <th></th>\n",
       "      <th></th>\n",
       "      <th></th>\n",
       "      <th></th>\n",
       "      <th></th>\n",
       "      <th></th>\n",
       "      <th></th>\n",
       "    </tr>\n",
       "  </thead>\n",
       "  <tbody>\n",
       "    <tr>\n",
       "      <th>2006-01-01</th>\n",
       "      <td>2006-01-01</td>\n",
       "      <td>1069.184</td>\n",
       "      <td>164.814173</td>\n",
       "      <td>89.258695</td>\n",
       "      <td>272.663481</td>\n",
       "      <td>1</td>\n",
       "      <td>2006</td>\n",
       "    </tr>\n",
       "    <tr>\n",
       "      <th>2006-01-02</th>\n",
       "      <td>2006-01-02</td>\n",
       "      <td>1380.521</td>\n",
       "      <td>164.814173</td>\n",
       "      <td>89.258695</td>\n",
       "      <td>272.663481</td>\n",
       "      <td>1</td>\n",
       "      <td>2006</td>\n",
       "    </tr>\n",
       "  </tbody>\n",
       "</table>\n",
       "</div>"
      ],
      "text/plain": [
       "                 Date  Consumption        Wind      Solar  Wind+Solar  month  \\\n",
       "Date                                                                           \n",
       "2006-01-01 2006-01-01     1069.184  164.814173  89.258695  272.663481      1   \n",
       "2006-01-02 2006-01-02     1380.521  164.814173  89.258695  272.663481      1   \n",
       "\n",
       "            year  \n",
       "Date              \n",
       "2006-01-01  2006  \n",
       "2006-01-02  2006  "
      ]
     },
     "execution_count": 16,
     "metadata": {},
     "output_type": "execute_result"
    }
   ],
   "source": [
    "# fill nulls\n",
    "values = {\"Wind\": ops.Wind.mean(), \n",
    "          \"Solar\": ops.Solar.mean(), \n",
    "          \"Wind+Solar\": ops['Wind+Solar'].mean()}\n",
    "ops = ops.fillna(value=values)\n",
    "ops.head(2)"
   ]
  },
  {
   "cell_type": "code",
   "execution_count": 17,
   "id": "1df6c168",
   "metadata": {},
   "outputs": [],
   "source": [
    "# add functions to prepare.py\n",
    "# done"
   ]
  }
 ],
 "metadata": {
  "kernelspec": {
   "display_name": "Python 3 (ipykernel)",
   "language": "python",
   "name": "python3"
  },
  "language_info": {
   "codemirror_mode": {
    "name": "ipython",
    "version": 3
   },
   "file_extension": ".py",
   "mimetype": "text/x-python",
   "name": "python",
   "nbconvert_exporter": "python",
   "pygments_lexer": "ipython3",
   "version": "3.8.8"
  }
 },
 "nbformat": 4,
 "nbformat_minor": 5
}
